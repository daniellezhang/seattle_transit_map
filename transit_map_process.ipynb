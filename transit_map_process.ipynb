{
 "cells": [
  {
   "cell_type": "code",
   "execution_count": null,
   "id": "21dfb131-e7b5-4d4b-b7d0-8958f73c2987",
   "metadata": {},
   "outputs": [],
   "source": [
    "import geopy.distance\n",
    "import numpy as np\n",
    "from sklearn.neighbors import BallTree\n",
    "import pandas as pd\n",
    "from datetime import datetime\n",
    "from datetime import timedelta"
   ]
  },
  {
   "cell_type": "code",
   "execution_count": null,
   "id": "698fe5f9-6b4f-4f22-846c-46a4022ca0fd",
   "metadata": {},
   "outputs": [],
   "source": [
    "# max time to get to the stop by foot: 15 minutes\n",
    "max_walking_to_stop_time = 15 * 60\n",
    "# speed to walk to the stop: 3 mi/h\n",
    "walking_speed = 3"
   ]
  },
  {
   "cell_type": "code",
   "execution_count": null,
   "id": "9d17c085-87e3-466c-aac7-4e4538f009e9",
   "metadata": {},
   "outputs": [],
   "source": [
    "def custom_distance(a, b):\n",
    "    manhattan_distance = (geopy.distance.distance((a[0], a[1]), (a[0], b[1])) + geopy.distance.distance((a[0], a[1]), (b[0], a[1]))).miles\n",
    "    return manhattan_distance /walking_speed * 3600\n",
    "\n",
    "def custom_route_id_with_direction(row):\n",
    "    return row['route_id'] + \"-\" + str(row['direction_id'])"
   ]
  },
  {
   "cell_type": "code",
   "execution_count": null,
   "id": "11a9b3f7-d7a3-4ba4-98d8-6a2c784a1ca9",
   "metadata": {},
   "outputs": [],
   "source": [
    "f = open(\"./input.txt\", 'r')\n",
    "inputs = f.read().split(',')\n",
    "f.close()\n",
    "destination_lat = float(inputs[0])\n",
    "destination_lon = float(inputs[1])\n",
    "max_commute_time = float(inputs[2]) * 60\n",
    "\n",
    "stops = pd.read_csv(\"./gtfs_puget_sound_consolidated/stops.txt\")\n",
    "\n",
    "stops_tree = BallTree(stops[[\"stop_lat\", \"stop_lon\"]].values, metric = lambda a,b: custom_distance(a,b))\n",
    "closest_stops_indices, distances = stops_tree.query_radius([[destination_lat, destination_lon]], min(max_walking_to_stop_time,max_commute_time), True)"
   ]
  },
  {
   "cell_type": "code",
   "execution_count": null,
   "id": "1b802144-a720-4430-a817-479ec186b9e8",
   "metadata": {},
   "outputs": [],
   "source": [
    "stops = stops[[\"stop_lat\", \"stop_lon\", \"stop_id\"]]"
   ]
  },
  {
   "cell_type": "code",
   "execution_count": null,
   "id": "ae795315-74fb-48af-99a0-0c1014b22806",
   "metadata": {},
   "outputs": [],
   "source": [
    "stop_set = set()\n",
    "# set to track the stops traversed\n",
    "for i in range(len(closest_stops_indices[0])):\n",
    "    index = closest_stops_indices[0][i]\n",
    "    lat = stops.loc[index][\"stop_lat\"]\n",
    "    lon = stops.loc[index][\"stop_lon\"]\n",
    "    stop_id = stops.loc[index][\"stop_id\"]\n",
    "    distance = distances[0][i]\n",
    "    stop_set.add(stop_id)"
   ]
  },
  {
   "cell_type": "code",
   "execution_count": null,
   "id": "96626f84-14ee-48de-ac90-6a742e3bf71d",
   "metadata": {},
   "outputs": [],
   "source": [
    "sets = [set() for i in stops.index]\n",
    "stops.insert(3, \"routes\", sets, allow_duplicates=False) "
   ]
  },
  {
   "cell_type": "code",
   "execution_count": null,
   "id": "a685a3e8-d918-4a4c-9ea3-f7361152d24b",
   "metadata": {},
   "outputs": [],
   "source": [
    "relevant_trips = pd.DataFrame(columns=[\"trip_id\", \"route_id\", \"direction_id\"])"
   ]
  },
  {
   "cell_type": "code",
   "execution_count": null,
   "id": "13f737df-447d-4713-988c-4b3e6b41529e",
   "metadata": {},
   "outputs": [],
   "source": [
    "stop_times = pd.DataFrame(columns=[\"trip_id\", \"stop_id\", \"arrival_time\"])"
   ]
  },
  {
   "cell_type": "code",
   "execution_count": null,
   "id": "ec4f432a-c859-41db-aada-6c428fb41ad6",
   "metadata": {},
   "outputs": [],
   "source": [
    "trips = pd.read_csv(\"./gtfs_puget_sound_consolidated/trips.txt\", low_memory=False)\n",
    "trips = trips[[\"route_id\", \"trip_id\", \"direction_id\"]]"
   ]
  },
  {
   "cell_type": "code",
   "execution_count": null,
   "id": "6d538ebf-6e56-4a3f-aca3-d77a9e9b16ea",
   "metadata": {},
   "outputs": [],
   "source": [
    "# process stop_times by chunks to construct a graph. Only get data relevant to the starting stops.\n",
    "chunksize = 10 ** 6\n",
    "with pd.read_csv(\"./gtfs_puget_sound_consolidated/stop_times.txt\", chunksize=chunksize, low_memory=False) as reader:\n",
    "    for chunk in reader:\n",
    "        # chunk is a DataFrame. To \"process\" the rows in the chunk:   \n",
    "        chunk = chunk[[\"trip_id\", \"stop_id\", \"arrival_time\"]]\n",
    "        chunk[\"arrival_time\"]= pd.to_timedelta(chunk[\"arrival_time\"])\n",
    "        unique_trip_id_set = set(chunk.query('stop_id in @stop_set')[\"trip_id\"])\n",
    "        chunk_relevant_trips = trips.query('trip_id in @unique_trip_id_set')\n",
    "        chunk = chunk.query('trip_id in @unique_trip_id_set')\n",
    "        stop_times = pd.concat([stop_times, chunk])\n",
    "        relevant_trips = pd.concat([relevant_trips, chunk_relevant_trips])"
   ]
  },
  {
   "cell_type": "code",
   "execution_count": null,
   "id": "4716eb99-48c3-4901-8077-f9c0a83fd7b2",
   "metadata": {},
   "outputs": [],
   "source": [
    "relevant_trips['route_id_with_direction'] = relevant_trips.apply(custom_route_id_with_direction, axis=1)"
   ]
  },
  {
   "cell_type": "code",
   "execution_count": null,
   "id": "84b795ec-9881-4437-a33b-9f403a51f9ed",
   "metadata": {},
   "outputs": [],
   "source": [
    "relevant_trips"
   ]
  },
  {
   "cell_type": "code",
   "execution_count": null,
   "id": "2decc200-5882-42e7-aeb6-2079d82ea9e2",
   "metadata": {},
   "outputs": [],
   "source": [
    "# build a new df for route information and average route traveling stop-to-stop time\n",
    "travel_graph= pd.DataFrame(columns = [\"route_id_with_direction\", \"stop_list\", \"arrival_time_list\", \"max_total_travel_time\"])"
   ]
  },
  {
   "cell_type": "code",
   "execution_count": null,
   "id": "4645b55c-387e-44b1-adaa-50e831ab392d",
   "metadata": {},
   "outputs": [],
   "source": [
    "for index, row in relevant_trips.iterrows():\n",
    "    route_id_with_direction = row[\"route_id_with_direction\"]\n",
    "    trip_id = row[\"trip_id\"]\n",
    "    current_trip = stop_times.loc[stop_times[\"trip_id\"] == trip_id].sort_values(by=[\"arrival_time\"])\n",
    "    current_stops = current_trip[\"stop_id\"].tolist()\n",
    "    if not travel_graph[\"route_id_with_direction\"].str.contains(route_id_with_direction).any():     \n",
    "        travel_time = np.max(current_trip[\"arrival_time\"]) - np.min(current_trip[\"arrival_time\"])\n",
    "        new_row = {\"route_id_with_direction\": route_id_with_direction, \"stop_list\": current_stops, \"arrival_time_list\": current_trip[\"arrival_time\"].tolist(), \"max_total_travel_time\": travel_time}\n",
    "        travel_graph = travel_graph._append(new_row, ignore_index=True)\n",
    "        for stop_id in current_stops:\n",
    "            stops.loc[stops[\"stop_id\"] == stop_id][\"routes\"].values[0].add(route_id_with_direction)\n",
    "    else:\n",
    "        max_total_travel_time = travel_graph.loc[travel_graph[\"route_id_with_direction\"] == route_id_with_direction][\"max_total_travel_time\"].values[0]\n",
    "        trip_stop_times = stop_times.loc[(stop_times[\"trip_id\"] == trip_id)]\n",
    "        total_travel_time = np.max(trip_stop_times[\"arrival_time\"]) - np.min(trip_stop_times[\"arrival_time\"])\n",
    "        # update the travel time if this trip's total travel time is longer\n",
    "        if total_travel_time > max_total_travel_time:\n",
    "            travel_graph.loc[travel_graph[\"route_id_with_direction\"] == route_id_with_direction][\"max_total_travel_time\"].values[0] = total_travel_time\n",
    "            travel_graph.loc[travel_graph[\"route_id_with_direction\"] == route_id_with_direction][\"arrival_time_list\"].values[0] = trip_stop_times\n",
    "            travel_graph.loc[travel_graph[\"route_id_with_direction\"] == route_id_with_direction][\"stop_list\"].values[0] = current_stops         "
   ]
  },
  {
   "cell_type": "code",
   "execution_count": null,
   "id": "cc341822-439c-43dd-9f32-55e840edbf7b",
   "metadata": {},
   "outputs": [],
   "source": [
    "map = stops.iloc[closest_stops_indices[0]]\n",
    "map = map.rename(columns={'stop_lat': 'lat','stop_lon':'lon'})[['lat','lon','stop_id']]\n",
    "map = map.assign(time = distances[0])"
   ]
  },
  {
   "cell_type": "code",
   "execution_count": null,
   "id": "de9d82f9-f255-4c9e-bdea-361211412919",
   "metadata": {},
   "outputs": [],
   "source": [
    "for i in range(len(closest_stops_indices[0])):\n",
    "    stop_id = str(stops.loc[closest_stops_indices[0][i]][\"stop_id\"])\n",
    "    routes = stops.loc[closest_stops_indices[0][i]][\"routes\"]\n",
    "    max_travel_time_for_current_destination = max_commute_time - distances[0][i]\n",
    "    # traverse on the routes that go through the given stop_id\n",
    "    for route in routes:\n",
    "        route_info = travel_graph.loc[travel_graph[\"route_id_with_direction\"] == route]\n",
    "        stop_list = route_info[\"stop_list\"].values[0]\n",
    "        arrival_time_list = route_info[\"arrival_time_list\"].values[0]\n",
    "        travel_start_time = arrival_time_list[0]\n",
    "        destination_stop_index = stop_list.index(stop_id)\n",
    "        for x in range(0, destination_stop_index):\n",
    "            travel_time = (arrival_time_list[destination_stop_index] - arrival_time_list[x]).total_seconds()\n",
    "            if travel_time > 0 and travel_time < max_travel_time_for_current_destination:\n",
    "                time = travel_time + distances[0][i]\n",
    "                if stop_list[x] not in map['stop_id'].values:                   \n",
    "                    lat = stops.loc[stops[\"stop_id\"]==stop_list[x]][\"stop_lat\"].values[0]\n",
    "                    lon = stops.loc[stops[\"stop_id\"]==stop_list[x]][\"stop_lon\"].values[0]\n",
    "                    new_row = {\"lat\": lat, \"lon\": lon, \"time\": time, \"stop_id\": stop_list[x]}\n",
    "                    map = map._append(new_row, ignore_index=True)\n",
    "                elif map.loc[map[\"stop_id\"]==stop_list[x]][\"time\"].values[0] > time:\n",
    "                    map.loc[map[\"stop_id\"]==stop_list[x]][\"time\"].values[0] = time"
   ]
  },
  {
   "cell_type": "code",
   "execution_count": null,
   "id": "16cb2639-aced-4edc-84b4-9bb225965c92",
   "metadata": {},
   "outputs": [],
   "source": [
    "map"
   ]
  },
  {
   "cell_type": "code",
   "execution_count": null,
   "id": "ddf9bd53-f29c-43da-9bd0-151aa54c2504",
   "metadata": {},
   "outputs": [],
   "source": [
    "import folium\n",
    "import webbrowser"
   ]
  },
  {
   "cell_type": "code",
   "execution_count": null,
   "id": "f54a0571-13fe-45f2-8331-51a91809ee82",
   "metadata": {},
   "outputs": [],
   "source": [
    "my_convexhull_map = folium.Map(location=(destination_lat, destination_lon), zoom_start=12)#location - the center of the map, zoom_start - the resolution\n",
    "\n",
    "fg = folium.FeatureGroup(name=\"Stops\")\n",
    "for index, row in map.iterrows():\n",
    "    fg.add_child(\n",
    "        folium.CircleMarker(\n",
    "            (row['lat'], row['lon']),\n",
    "            radius = 7,\n",
    "            color=\"cornflowerblue\",\n",
    "            stroke=False,\n",
    "            fill=True,\n",
    "            fill_opacity=0.6,\n",
    "            opacity=1,\n",
    "            popup=(folium.Popup(\"Travel time in minutes:\" + str(row['time']/60))),\n",
    "        )\n",
    "    )\n",
    "\n",
    "my_convexhull_map.add_child(fg)\n",
    "\n",
    "fg = folium.FeatureGroup(name=\"Commute Destination\")\n",
    "fg.add_child(\n",
    "    folium.CircleMarker(\n",
    "        (destination_lat, destination_lon),\n",
    "        radius = 10,\n",
    "        color=\"#FF7043\",\n",
    "        stroke=False,\n",
    "        fill=True,\n",
    "        fill_opacity=1,\n",
    "        opacity=1,\n",
    "        popup=(folium.Popup(\"Commute Destination\")),\n",
    "    )\n",
    ")\n",
    "my_convexhull_map.add_child(fg)\n"
   ]
  },
  {
   "cell_type": "code",
   "execution_count": null,
   "id": "e68315eb-7908-41c3-8623-870626a4a333",
   "metadata": {},
   "outputs": [],
   "source": [
    "my_convexhull_map.save(\"map.html\")\n",
    "webbrowser.open(\"map.html\")\n",
    "# Add layer control and show map\n",
    "folium.LayerControl(collapsed=False).add_to(my_convexhull_map)\n",
    "my_convexhull_map"
   ]
  },
  {
   "cell_type": "code",
   "execution_count": null,
   "id": "afdcf5ad-5e94-424c-8c08-42aa56a0f24d",
   "metadata": {},
   "outputs": [],
   "source": []
  }
 ],
 "metadata": {
  "kernelspec": {
   "display_name": "Python 3 (ipykernel)",
   "language": "python",
   "name": "python3"
  },
  "language_info": {
   "codemirror_mode": {
    "name": "ipython",
    "version": 3
   },
   "file_extension": ".py",
   "mimetype": "text/x-python",
   "name": "python",
   "nbconvert_exporter": "python",
   "pygments_lexer": "ipython3",
   "version": "3.12.6"
  }
 },
 "nbformat": 4,
 "nbformat_minor": 5
}
